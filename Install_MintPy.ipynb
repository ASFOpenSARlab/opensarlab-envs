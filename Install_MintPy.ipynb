{
 "cells": [
  {
   "cell_type": "code",
   "execution_count": null,
   "metadata": {},
   "outputs": [],
   "source": [
    "import os\n",
    "env = !echo $CONDA_PREFIX\n",
    "env=env[0]\n",
    "insar_env_prefix = \"/home/jovyan/.local/envs/insar_analysis\"\n",
    "env_name = os.path.basename(env)\n",
    "if env != insar_env_prefix:\n",
    "    raise (Exception(f\"Currently in the {env} environment, not {insar_env_prefix}\"))"
   ]
  },
  {
   "cell_type": "code",
   "execution_count": null,
   "metadata": {},
   "outputs": [],
   "source": [
    "path = os.environ['PATH']\n",
    "try:\n",
    "    py_path = f\":{os.environ['PYTHONPATH']}\"\n",
    "except KeyError:\n",
    "    py_path = \"\"\n",
    "    pass\n",
    "mintpy = \"/home/jovyan/.local/MintPy\"\n",
    "pyaps = \"/home/jovyan/.local/PyAPS\"\n",
    "proj = f\"/home/jovyan/.local/envs/{env_name}/share/proj\"\n",
    "%conda env config vars set -n $env_name MINTPY_HOME=$mintpy\n",
    "%conda env config vars set -n $env_name PYAPS_HOME=$pyaps\n",
    "%conda env config vars set -n $env_name PROJ_LIB=$proj\n",
    "%conda env config vars set -n $env_name PATH=$mintpy/mintpy:$path\n",
    "%conda env config vars set -n $env_name PYTHONPATH=$mintpy:$pyaps$py_path"
   ]
  },
  {
   "cell_type": "code",
   "execution_count": null,
   "metadata": {},
   "outputs": [],
   "source": [
    "!git clone -b v1.3.0 --depth=1 --single-branch https://github.com/insarlab/MintPy.git $mintpy\n",
    "!git clone -b main --depth=1 --single-branch https://github.com/yunjunz/pyaps3.git $pyaps   "
   ]
  },
  {
   "cell_type": "code",
   "execution_count": null,
   "metadata": {},
   "outputs": [],
   "source": [
    "!$insar_env_prefix/bin/pip install pykml -e git+https://github.com/yunjunz/pykml.git#egg=pykml"
   ]
  }
 ],
 "metadata": {
  "kernelspec": {
   "display_name": "insar_analysis",
   "language": "python",
   "name": "insar_analysis"
  },
  "language_info": {
   "codemirror_mode": {
    "name": "ipython",
    "version": 3
   },
   "file_extension": ".py",
   "mimetype": "text/x-python",
   "name": "python",
   "nbconvert_exporter": "python",
   "pygments_lexer": "ipython3",
   "version": "3.8.8"
  }
 },
 "nbformat": 4,
 "nbformat_minor": 4
}
