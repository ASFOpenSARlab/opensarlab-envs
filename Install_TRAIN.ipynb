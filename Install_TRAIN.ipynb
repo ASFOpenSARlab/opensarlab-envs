{
 "cells": [
  {
   "cell_type": "code",
   "execution_count": null,
   "metadata": {},
   "outputs": [],
   "source": [
    "import os\n",
    "import ipywidgets\n",
    "\n",
    "env = !echo $CONDA_PREFIX\n",
    "env=env[0]\n",
    "insar_env_prefix = \"/home/jovyan/.local/envs/insar_analysis\"\n",
    "env_name = os.path.basename(env)\n",
    "if env != insar_env_prefix:\n",
    "    raise (Exception(f\"Currently in the {env} environment, not {insar_env_prefix}\"))\n",
    "    \n",
    "train_path = \"/home/jovyan/.local/TRAIN\""
   ]
  },
  {
   "cell_type": "code",
   "execution_count": null,
   "metadata": {},
   "outputs": [],
   "source": [
    "print(\"Do you wish to install or update TRAIN?\")\n",
    "choice = ipywidgets.RadioButtons(\n",
    "    options=['Update', 'Install'],\n",
    "    description=\"\",\n",
    "    disabled=False,\n",
    "    layout=ipywidgets.Layout(height=f\"38px\", width='500px')\n",
    ")\n",
    "choice"
   ]
  },
  {
   "cell_type": "markdown",
   "metadata": {},
   "source": [
    "## Set PYTHONPATH"
   ]
  },
  {
   "cell_type": "code",
   "execution_count": null,
   "metadata": {},
   "outputs": [],
   "source": [
    "import os\n",
    "try:\n",
    "    py_path = f\"{train_path}/src:{os.environ['PYTHONPATH']}\"\n",
    "except KeyError:\n",
    "    py_path = train_path\n",
    "%conda env config vars set -n insar_analysis PYTHONPATH=$py_path"
   ]
  },
  {
   "cell_type": "markdown",
   "metadata": {},
   "source": [
    "## Install TRAIN"
   ]
  },
  {
   "cell_type": "code",
   "execution_count": null,
   "metadata": {},
   "outputs": [],
   "source": [
    "if choice.value == 'Install':\n",
    "    !git clone -b OpenSARlab --single-branch https://github.com/asfadmin/hyp3-TRAIN.git $train_path"
   ]
  },
  {
   "cell_type": "markdown",
   "metadata": {},
   "source": [
    "## Update TRAIN"
   ]
  },
  {
   "cell_type": "code",
   "execution_count": null,
   "metadata": {},
   "outputs": [],
   "source": [
    "if choice.value == 'Update':\n",
    "    if os.path.exists(train_path):\n",
    "        os.chdir(train_path)\n",
    "        !git pull"
   ]
  }
 ],
 "metadata": {
  "kernelspec": {
   "display_name": "insar_analysis",
   "language": "python",
   "name": "insar_analysis"
  },
  "language_info": {
   "codemirror_mode": {
    "name": "ipython",
    "version": 3
   },
   "file_extension": ".py",
   "mimetype": "text/x-python",
   "name": "python",
   "nbconvert_exporter": "python",
   "pygments_lexer": "ipython3",
   "version": "3.8.10"
  }
 },
 "nbformat": 4,
 "nbformat_minor": 4
}
