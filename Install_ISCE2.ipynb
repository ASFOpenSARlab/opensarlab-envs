{
 "cells": [
  {
   "cell_type": "markdown",
   "metadata": {},
   "source": [
    "### ISCE2 was installed when creating the insar_analysis environment but we need to set some environment variables"
   ]
  },
  {
   "cell_type": "code",
   "execution_count": null,
   "metadata": {},
   "outputs": [],
   "source": [
    "import os\n",
    "env = !echo $CONDA_PREFIX\n",
    "env=env[0]\n",
    "insar_env_prefix = \"/home/jovyan/.local/envs/insar_analysis\"\n",
    "env_name = os.path.basename(env)\n",
    "if env != insar_env_prefix:\n",
    "    raise (Exception(f\"Currently in the {env} environment, not {insar_env_prefix}\"))"
   ]
  },
  {
   "cell_type": "code",
   "execution_count": null,
   "metadata": {},
   "outputs": [],
   "source": [
    "python_site_packages = f\"{insar_env_prefix}/lib/python3.8/site-packages\"\n",
    "isce_py_path = f\"{python_site_packages}/isce\"\n",
    "isce_path = f\"{python_site_packages}/isce/applications\"\n",
    "path = os.environ['PATH']\n",
    "try:\n",
    "    py_path = f\":{os.environ['PYTHONPATH']}\"\n",
    "except KeyError:\n",
    "    py_path = \"\"\n",
    "    pass\n",
    "\n",
    "%conda env config vars set -n $env_name PYTHONPATH=$isce_py_path$py_path\n",
    "%conda env config vars set -n $env_name ISCE_HOME=$python_site_packages/isce\n",
    "%conda env config vars set -n $env_name PATH=$isce_path:$path"
   ]
  }
 ],
 "metadata": {
  "kernelspec": {
   "display_name": "insar_analysis",
   "language": "python",
   "name": "insar_analysis"
  },
  "language_info": {
   "codemirror_mode": {
    "name": "ipython",
    "version": 3
   },
   "file_extension": ".py",
   "mimetype": "text/x-python",
   "name": "python",
   "nbconvert_exporter": "python",
   "pygments_lexer": "ipython3",
   "version": "3.8.8"
  }
 },
 "nbformat": 4,
 "nbformat_minor": 4
}
