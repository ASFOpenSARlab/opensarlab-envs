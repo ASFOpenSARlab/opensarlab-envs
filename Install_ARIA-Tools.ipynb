{
 "cells": [
  {
   "cell_type": "code",
   "execution_count": null,
   "metadata": {},
   "outputs": [],
   "source": [
    "import os\n",
    "import ipywidgets\n",
    "\n",
    "env = !echo $CONDA_PREFIX\n",
    "env=env[0]\n",
    "insar_env_prefix = \"/home/jovyan/.local/envs/insar_analysis\"\n",
    "env_name = os.path.basename(env)\n",
    "if env != insar_env_prefix:\n",
    "    raise (Exception(f\"Currently in the {env} environment, not {insar_env_prefix}\"))\n",
    "    \n",
    "aria = '/home/jovyan/.local/ARIA-tools'\n",
    "aria_docs = '/home/jovyan/ARIA-tools-docs'"
   ]
  },
  {
   "cell_type": "code",
   "execution_count": null,
   "metadata": {},
   "outputs": [],
   "source": [
    "print(\"Do you wish to clone the ARIA-tools and ARIA-tools-docs repositories, or pull updates?\")\n",
    "choice = ipywidgets.RadioButtons(\n",
    "    options=['Pull', 'Clone'],\n",
    "    description=\"\",\n",
    "    disabled=False,\n",
    "    layout=ipywidgets.Layout(height=f\"38px\", width='500px')\n",
    ")\n",
    "choice"
   ]
  },
  {
   "cell_type": "markdown",
   "metadata": {},
   "source": [
    "## Clone the repositories"
   ]
  },
  {
   "cell_type": "code",
   "execution_count": null,
   "metadata": {},
   "outputs": [],
   "source": [
    "if choice.value == 'Clone':\n",
    "    !git clone https://github.com/aria-tools/ARIA-tools.git $aria\n",
    "    !git clone -b master --depth=1 --single-branch https://github.com/aria-tools/ARIA-tools-docs.git ARIA-tools-docs"
   ]
  },
  {
   "cell_type": "markdown",
   "metadata": {},
   "source": [
    "## Pull from the repositories"
   ]
  },
  {
   "cell_type": "code",
   "execution_count": null,
   "metadata": {},
   "outputs": [],
   "source": [
    "if choice.value == 'Pull':\n",
    "    if os.path.exists(aria):\n",
    "        os.chdir(aria)\n",
    "        !git pull"
   ]
  },
  {
   "cell_type": "code",
   "execution_count": null,
   "metadata": {},
   "outputs": [],
   "source": [
    "if choice.value == 'Pull':\n",
    "    if os.path.exists(aria_docs):\n",
    "        os.chdir(aria_docs)\n",
    "        !git pull"
   ]
  },
  {
   "cell_type": "markdown",
   "metadata": {},
   "source": [
    "## Build ARIA-Tools"
   ]
  },
  {
   "cell_type": "code",
   "execution_count": null,
   "metadata": {},
   "outputs": [],
   "source": [
    "if os.path.exists(aria):\n",
    "    os.chdir(aria)\n",
    "%conda run python setup.py build\n",
    "%conda run python setup.py install"
   ]
  },
  {
   "cell_type": "code",
   "execution_count": null,
   "metadata": {},
   "outputs": [],
   "source": []
  }
 ],
 "metadata": {
  "kernelspec": {
   "display_name": "insar_analysis",
   "language": "python",
   "name": "insar_analysis"
  },
  "language_info": {
   "codemirror_mode": {
    "name": "ipython",
    "version": 3
   },
   "file_extension": ".py",
   "mimetype": "text/x-python",
   "name": "python",
   "nbconvert_exporter": "python",
   "pygments_lexer": "ipython3",
   "version": "3.8.10"
  }
 },
 "nbformat": 4,
 "nbformat_minor": 4
}
