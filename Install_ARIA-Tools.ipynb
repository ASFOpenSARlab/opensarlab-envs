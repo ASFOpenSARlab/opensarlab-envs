{
 "cells": [
  {
   "cell_type": "code",
   "execution_count": null,
   "metadata": {},
   "outputs": [],
   "source": [
    "import os\n",
    "env = !echo $CONDA_PREFIX\n",
    "env=env[0]\n",
    "insar_env_prefix = \"/home/jovyan/.local/envs/insar_analysis\"\n",
    "env_name = os.path.basename(env)\n",
    "if env != insar_env_prefix:\n",
    "    raise (Exception(f\"Currently in the {env} environment, not {insar_env_prefix}\"))"
   ]
  },
  {
   "cell_type": "code",
   "execution_count": null,
   "metadata": {},
   "outputs": [],
   "source": [
    "!git clone https://github.com/aria-tools/ARIA-tools.git /home/jovyan/.local/ARIA-tools\n",
    "!git clone -b master --depth=1 --single-branch https://github.com/aria-tools/ARIA-tools-docs.git ARIA-tools-docs"
   ]
  },
  {
   "cell_type": "code",
   "execution_count": null,
   "metadata": {},
   "outputs": [],
   "source": [
    "import os\n",
    "os.chdir(\"/home/jovyan/.local/ARIA-tools/\")"
   ]
  },
  {
   "cell_type": "code",
   "execution_count": null,
   "metadata": {},
   "outputs": [],
   "source": [
    "%conda run python setup.py build\n",
    "%conda run python setup.py install"
   ]
  }
 ],
 "metadata": {
  "kernelspec": {
   "display_name": "insar_analysis",
   "language": "python",
   "name": "insar_analysis"
  },
  "language_info": {
   "codemirror_mode": {
    "name": "ipython",
    "version": 3
   },
   "file_extension": ".py",
   "mimetype": "text/x-python",
   "name": "python",
   "nbconvert_exporter": "python",
   "pygments_lexer": "ipython3",
   "version": "3.8.8"
  }
 },
 "nbformat": 4,
 "nbformat_minor": 4
}
