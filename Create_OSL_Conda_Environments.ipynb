{
 "cells": [
  {
   "cell_type": "code",
   "execution_count": null,
   "metadata": {},
   "outputs": [],
   "source": [
    "import glob\n",
    "import ipywidgets\n",
    "import os"
   ]
  },
  {
   "cell_type": "markdown",
   "metadata": {},
   "source": [
    "### List Currently Installed Conda Environments"
   ]
  },
  {
   "cell_type": "code",
   "execution_count": null,
   "metadata": {},
   "outputs": [],
   "source": [
    "%conda env list"
   ]
  },
  {
   "cell_type": "markdown",
   "metadata": {},
   "source": [
    "### Select a Conda Environment to Create\n",
    "\n",
    "Note: new environment.yml files should be stored in /home/jovyan/Environment_Configs/ and follow the naming convention \\<environment_name\\>_env.yml where \\<environment_name\\> is the environment name"
   ]
  },
  {
   "cell_type": "code",
   "execution_count": null,
   "metadata": {},
   "outputs": [],
   "source": [
    "env_ymls = glob.glob(\"/home/jovyan/Environment_Configs/*.yml\")\n",
    "height = len(env_ymls) * 19\n",
    "names =  ipywidgets.RadioButtons(\n",
    "    options=[ os.path.basename(f).split('_env')[0] for f in env_ymls ],\n",
    "    description=\"\",\n",
    "    disabled=False,\n",
    "    layout=ipywidgets.Layout(height=f\"{height}px\", width='500px')\n",
    ")\n",
    "names"
   ]
  },
  {
   "cell_type": "markdown",
   "metadata": {},
   "source": [
    "### Collect the Environment Name, Prefix, and Path to its env.yml"
   ]
  },
  {
   "cell_type": "code",
   "execution_count": null,
   "metadata": {},
   "outputs": [],
   "source": [
    "yml = \"\"\n",
    "name = names.value\n",
    "for pth in env_ymls:\n",
    "    if name in pth:\n",
    "        yml = pth\n",
    "        break\n",
    "prefix = f\"/home/jovyan/.local/envs/{name}\"\n",
    "print(yml)"
   ]
  },
  {
   "cell_type": "markdown",
   "metadata": {},
   "source": [
    "### Create the Environment"
   ]
  },
  {
   "cell_type": "code",
   "execution_count": null,
   "metadata": {},
   "outputs": [],
   "source": [
    "%conda env create -f $yml --prefix $prefix --force"
   ]
  },
  {
   "cell_type": "markdown",
   "metadata": {},
   "source": [
    "### Update iykernel with the environment name and location of its kernel"
   ]
  },
  {
   "cell_type": "code",
   "execution_count": null,
   "metadata": {},
   "outputs": [],
   "source": [
    "kernel_cmd = f\"{prefix}/bin/python -m ipykernel install --user --name {name}\"\n",
    "print(kernel_cmd)"
   ]
  },
  {
   "cell_type": "code",
   "execution_count": null,
   "metadata": {},
   "outputs": [],
   "source": [
    "!$kernel_cmd"
   ]
  },
  {
   "cell_type": "code",
   "execution_count": null,
   "metadata": {},
   "outputs": [],
   "source": [
    "l_name = name.lower()\n",
    "%conda run -n $name kernda /home/jovyan/.local/share/jupyter/kernels/$l_name/kernel.json --env-dir $prefix -o"
   ]
  },
  {
   "cell_type": "markdown",
   "metadata": {},
   "source": [
    "### Restart Your Server Before Running any Installation Notebooks Associated with the New Environment or Notebooks That Use it."
   ]
  }
 ],
 "metadata": {
  "kernelspec": {
   "display_name": "Python 3",
   "language": "python",
   "name": "python3"
  },
  "language_info": {
   "codemirror_mode": {
    "name": "ipython",
    "version": 3
   },
   "file_extension": ".py",
   "mimetype": "text/x-python",
   "name": "python",
   "nbconvert_exporter": "python",
   "pygments_lexer": "ipython3",
   "version": "3.8.6"
  }
 },
 "nbformat": 4,
 "nbformat_minor": 4
}
