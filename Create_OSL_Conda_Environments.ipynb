{
 "cells": [
  {
   "attachments": {},
   "cell_type": "markdown",
   "metadata": {},
   "source": [
    "# Install Conda Environments in OpenSARlab using an environment.yml\n",
    "\n",
    "- Conda environments are isolated Python software environments. \n",
    "\n",
    "- They allow you to install and use multiple software configurations that would conflict with each other in a single environment.   "
   ]
  },
  {
   "cell_type": "code",
   "execution_count": null,
   "metadata": {},
   "outputs": [],
   "source": [
    "import fileinput\n",
    "import ipywidgets\n",
    "import os\n",
    "from pathlib import Path\n",
    "\n",
    "from IPython.display import Markdown, display, HTML"
   ]
  },
  {
   "attachments": {},
   "cell_type": "markdown",
   "metadata": {},
   "source": [
    "### List Currently Installed Conda Environments"
   ]
  },
  {
   "cell_type": "code",
   "execution_count": null,
   "metadata": {},
   "outputs": [],
   "source": [
    "!mamba env list"
   ]
  },
  {
   "attachments": {},
   "cell_type": "markdown",
   "metadata": {},
   "source": [
    "---\n",
    "### Build an ASF Conda Environment or Create Your Own\n",
    "\n",
    "- ASF data recipe environments are defined in `yaml` files in the `~/conda_environments/Environment_Configs` directory\n",
    "\n",
    "**Note: to be seen and built using this notebook, new environment.yml files should be:**\n",
    "- stored in /home/jovyan/Environment_Configs\n",
    "- named so that they end in `_env.yml` or `_env.yaml`\n",
    "\n",
    "### Run the code cell below for a link to an example minimal environment for OpenSARLab\n",
    "- supports ipywidgets and interactive matplotlib plots"
   ]
  },
  {
   "cell_type": "code",
   "execution_count": null,
   "metadata": {},
   "outputs": [],
   "source": [
    "yaml_path = Path.cwd()/'Environment_Configs/minimal_notebook_env.yaml'\n",
    "relative_path = yaml_path.relative_to(Path.cwd())    \n",
    "link = f\"<a href='{relative_path}'>{yaml_path}</a>\"\n",
    "html = HTML(link)\n",
    "display(html)"
   ]
  },
  {
   "attachments": {},
   "cell_type": "markdown",
   "metadata": {},
   "source": [
    "---\n",
    "### Select a Conda Environment to Create"
   ]
  },
  {
   "cell_type": "code",
   "execution_count": null,
   "metadata": {},
   "outputs": [],
   "source": [
    "env_ymls = list(Path.cwd().rglob(\"Environment_Configs/*.y*ml\"))\n",
    "\n",
    "yml_dict = {fileinput.filename():f.split('name: ')[1].strip('\\n') for f in fileinput.input(env_ymls) if fileinput.isfirstline()}\n",
    "names = [v for v in yml_dict.values()]\n",
    "if len(names) > len(set(names)):\n",
    "    dups = {}\n",
    "    \n",
    "    for k, v in yml_dict.items():\n",
    "        dups.setdefault(v, []).append(k)\n",
    "    dups = {k:v for (k,v) in dups.items() if len(dups[k]) > 1}\n",
    "    display(Markdown(f'<text style=color:red><strong>WARNING:</text>'))\n",
    "    display(Markdown(f'<text style=color:red>Duplicate environment names found in /home/jovyan/conda_environments/Environment_Configs/*.yml files.</text>'))\n",
    "    display(Markdown(f'<text style=color:red>Creating an env with the same name as an existing env will overwrite the original.</text>'))\n",
    "    display(Markdown(f'<text style=color:green><br><strong>RECOMMENDATION:</strong></text>'))\n",
    "    display(Markdown(f'<text style=color:green>Edit the environment names on the first lines of the YMLs to eliminate duplicates.</text>'))\n",
    "    display(Markdown(f'<text style=color:green>If you see multiple similarly named YMLs, some of whose filenames have a timestamp appended to them, this is a result of YML updates.</text>'))\n",
    "    display(Markdown(f'<text style=color:green>In this case, the YML without a timestamp is the latest version and, unless you have made customizations to the old versions, you may safely delete them.</text>'))\n",
    "    \n",
    "    for d in dups:\n",
    "        print(f'YMLs using the environment name \"{d}\":')\n",
    "        for pth in dups[d]:\n",
    "            print(pth)\n",
    "    options = [f\"{yml_dict[k]} ---> {k}\" for k in yml_dict]\n",
    "else:\n",
    "    options = [yml_dict[k] for k in yml_dict]\n",
    "options.sort()\n",
    "display(Markdown(f'<text style=color:green><br><strong>Select an Environment to Create:</strong></text>'))\n",
    "height = len(env_ymls) * 20\n",
    "names =  ipywidgets.RadioButtons(\n",
    "    options=options,\n",
    "    description=\"\",\n",
    "    disabled=False,\n",
    "    layout=ipywidgets.Layout(height=f\"{height}px\", width='1000px')\n",
    ")\n",
    "names\n"
   ]
  },
  {
   "attachments": {},
   "cell_type": "markdown",
   "metadata": {},
   "source": [
    "---\n",
    "### Collect the Environment Name, Prefix, and Path to its env.yml"
   ]
  },
  {
   "cell_type": "code",
   "execution_count": null,
   "metadata": {},
   "outputs": [],
   "source": [
    "name = names.value\n",
    "if '--->' in name:\n",
    "    name, yml = name.split(' ---> ')\n",
    "else:\n",
    "    yml = {v:k for k,v in yml_dict.items()}[name]\n",
    "prefix = f\"/home/jovyan/.local/envs/{name}\""
   ]
  },
  {
   "attachments": {},
   "cell_type": "markdown",
   "metadata": {},
   "source": [
    "---\n",
    "### Create the Environment, change its display name, and run any needed shell scripts\n",
    "- This will overwrite an existing environment with the same name instead of updating it, which is the safer option for environments that change PATH and/or PYTHONPATH\n",
    "- custom shell scripts \n",
    "    - save in `~/conda_environments/Scripts`\n",
    "    - append an `elif` statement to the `if`/`elif` statements below to run it"
   ]
  },
  {
   "cell_type": "code",
   "execution_count": null,
   "metadata": {},
   "outputs": [],
   "source": [
    "# Creates the environment\n",
    "!mamba env create -f $yml --prefix $prefix -q --force\n",
    "\n",
    "# Without running this, every environment would appear in the GUI with the same name, 'Python 3'\n",
    "!mamba run -n $name kernda --display-name $name -o $prefix/share/jupyter/kernels/python3/kernel.json\n",
    "\n",
    "# Runs any associated shell scripts\n",
    "if name == \"insar_analysis\":\n",
    "    !source \"Scripts/install_insar_analysis_pkgs.sh\"\n",
    "elif name == \"train\":\n",
    "    !source \"Scripts/train.sh\"\n",
    "elif name == \"earthscope_insar\":\n",
    "    !source \"Scripts/earthscope_insar.sh\"\n",
    "elif name == \"NISAR_SE\":\n",
    "    !source \"Scripts/nisar_se.sh\"\n",
    "elif name == \"isce3_rtc\":\n",
    "    !source \"Scripts/isce3_rtc.sh\""
   ]
  },
  {
   "attachments": {},
   "cell_type": "markdown",
   "metadata": {},
   "source": [
    "---\n",
    "### Remove unused packages and caches."
   ]
  },
  {
   "cell_type": "code",
   "execution_count": null,
   "metadata": {
    "pycharm": {
     "name": "#%%\n"
    }
   },
   "outputs": [],
   "source": [
    "!mamba clean -p -t --yes\n",
    "!pip cache purge"
   ]
  },
  {
   "attachments": {},
   "cell_type": "markdown",
   "metadata": {
    "pycharm": {
     "name": "#%% md\n"
    }
   },
   "source": [
    "*Create_OSL_Conda_Environments.ipynb - Version 1.2.1 - March 2023*\n",
    "\n",
    "*Version Changes:*\n",
    "- *add instructions for creating custom `environment.yaml` files and shell scripts*\n",
    "- *move shell scripts to `Scripts` directory*"
   ]
  }
 ],
 "metadata": {
  "kernelspec": {
   "display_name": "base",
   "language": "python",
   "name": "python3"
  },
  "language_info": {
   "codemirror_mode": {
    "name": "ipython",
    "version": 3
   },
   "file_extension": ".py",
   "mimetype": "text/x-python",
   "name": "python",
   "nbconvert_exporter": "python",
   "pygments_lexer": "ipython3",
   "version": "3.10.6"
  }
 },
 "nbformat": 4,
 "nbformat_minor": 4
}
