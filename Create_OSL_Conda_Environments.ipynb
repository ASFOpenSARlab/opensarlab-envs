{
 "cells": [
  {
   "cell_type": "markdown",
   "metadata": {},
   "source": [
    "# Install Conda Environments in OpenSARlab using an environment.yml\n",
    "\n",
    "**If you wish to create a conda environment with the conda create commnand, use this [notebook](../opensarlab_docs/OpenSARlab_supplements/Jupyter_Conda_Environments.ipynb) instead.**"
   ]
  },
  {
   "cell_type": "code",
   "execution_count": null,
   "metadata": {},
   "outputs": [],
   "source": [
    "import glob\n",
    "import ipywidgets\n",
    "import os\n",
    "\n",
    "from IPython.display import Markdown\n",
    "from IPython.display import display"
   ]
  },
  {
   "cell_type": "markdown",
   "metadata": {},
   "source": [
    "### List Currently Installed Conda Environments"
   ]
  },
  {
   "cell_type": "code",
   "execution_count": null,
   "metadata": {},
   "outputs": [],
   "source": [
    "%conda env list"
   ]
  },
  {
   "cell_type": "markdown",
   "metadata": {},
   "source": [
    "### Select a Conda Environment to Create\n",
    "\n",
    "Note: new environment.yml files should be stored in /home/jovyan/Environment_Configs/ and follow the naming convention \\<environment_name\\>_env.yml where \\<environment_name\\> is the environment name"
   ]
  },
  {
   "cell_type": "code",
   "execution_count": null,
   "metadata": {},
   "outputs": [],
   "source": [
    "env_ymls = glob.glob(\"/home/jovyan/conda_environments/Environment_Configs/*.yml\")\n",
    "height = len(env_ymls) * 19\n",
    "names =  ipywidgets.RadioButtons(\n",
    "    options=[ os.path.basename(f).split('_env')[0] for f in env_ymls ],\n",
    "    description=\"\",\n",
    "    disabled=False,\n",
    "    layout=ipywidgets.Layout(height=f\"{height}px\", width='500px')\n",
    ")\n",
    "names"
   ]
  },
  {
   "cell_type": "markdown",
   "metadata": {},
   "source": [
    "### Collect the Environment Name, Prefix, and Path to its env.yml"
   ]
  },
  {
   "cell_type": "code",
   "execution_count": null,
   "metadata": {},
   "outputs": [],
   "source": [
    "yml = \"\"\n",
    "name = names.value\n",
    "for pth in env_ymls:\n",
    "    if f\"{name}_env.yml\" in pth:\n",
    "        yml = pth\n",
    "        break\n",
    "prefix = f\"/home/jovyan/.local/envs/{name}\"\n",
    "print(yml)"
   ]
  },
  {
   "cell_type": "markdown",
   "metadata": {},
   "source": [
    "### Create or the Environment\n",
    "This will overwrite an existing enviornment but is safer than an update for environments that change PATH and/or PYTHONPATH"
   ]
  },
  {
   "cell_type": "code",
   "execution_count": null,
   "metadata": {},
   "outputs": [],
   "source": [
    "%conda env create -f $yml --prefix $prefix --force"
   ]
  },
  {
   "cell_type": "markdown",
   "metadata": {},
   "source": [
    "### Update iykernel with the environment name and location of its kernel"
   ]
  },
  {
   "cell_type": "code",
   "execution_count": null,
   "metadata": {},
   "outputs": [],
   "source": [
    "%conda run -n $name kernda --display-name $name -o $prefix/share/jupyter/kernels/python3/kernel.json"
   ]
  },
  {
   "cell_type": "markdown",
   "metadata": {},
   "source": [
    "### Complete installations and repository clones for newly created insar_analysis and train environments"
   ]
  },
  {
   "cell_type": "code",
   "execution_count": null,
   "metadata": {},
   "outputs": [],
   "source": [
    "if env_cmd.value == 'Create':\n",
    "    if name == \"insar_analysis\":\n",
    "        !source install_insar_analysis_pkgs.sh\n",
    "    elif name == \"train\":\n",
    "        !source train.sh"
   ]
  }
 ],
 "metadata": {
  "kernelspec": {
   "display_name": "Python 3",
   "language": "python",
   "name": "python3"
  },
  "language_info": {
   "codemirror_mode": {
    "name": "ipython",
    "version": 3
   },
   "file_extension": ".py",
   "mimetype": "text/x-python",
   "name": "python",
   "nbconvert_exporter": "python",
   "pygments_lexer": "ipython3",
   "version": "3.8.6"
  }
 },
 "nbformat": 4,
 "nbformat_minor": 4
}
