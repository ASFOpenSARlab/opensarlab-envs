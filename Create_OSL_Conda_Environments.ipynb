{
 "cells": [
  {
   "cell_type": "markdown",
   "metadata": {},
   "source": [
    "# Install Conda Environments in OpenSARlab using an environment.yml\n",
    "\n",
    "- Conda environments are isolated Python software environments. \n",
    "\n",
    "- They allow you to install and use multiple software configurations that would conflict with each other in a single environment.   "
   ]
  },
  {
   "cell_type": "code",
   "execution_count": null,
   "metadata": {},
   "outputs": [],
   "source": [
    "%%capture\n",
    "import fileinput\n",
    "import ipywidgets\n",
    "import os\n",
    "from pathlib import Path\n",
    "import re\n",
    "\n",
    "try:\n",
    "    from ipyfilechooser import FileChooser\n",
    "except:\n",
    "    !python -m pip install ipyfilechooser\n",
    "    from ipyfilechooser import FileChooser\n",
    "\n",
    "from IPython.display import Markdown, display, HTML"
   ]
  },
  {
   "cell_type": "markdown",
   "metadata": {},
   "source": [
    "### List Currently Installed Conda Environments"
   ]
  },
  {
   "cell_type": "code",
   "execution_count": null,
   "metadata": {},
   "outputs": [],
   "source": [
    "!mamba env list"
   ]
  },
  {
   "cell_type": "markdown",
   "metadata": {},
   "source": [
    "---\n",
    "### Build an ASF Conda Environment or Create Your Own\n",
    "\n",
    "- ASF data recipe environments are defined in `yaml` files in the `~/conda_environments/Environment_Configs` directory\n",
    "\n",
    "**Note: to be seen and built using this notebook, new environment.yml files should be:**\n",
    "- stored in /home/jovyan/Environment_Configs\n",
    "- named so that they end in `_env.yml` or `_env.yaml`\n",
    "\n",
    "### Run the code cell below for a link to an example minimal environment for OpenSARLab\n",
    "- supports ipywidgets and interactive matplotlib plots"
   ]
  },
  {
   "cell_type": "code",
   "execution_count": null,
   "metadata": {},
   "outputs": [],
   "source": [
    "yaml_path = Path.cwd()/'Environment_Configs/minimal_notebook_env.yaml'\n",
    "relative_path = yaml_path.relative_to(Path.cwd())    \n",
    "link = f\"<a href='{relative_path}'>{yaml_path}</a>\"\n",
    "html = HTML(link)\n",
    "display(html)"
   ]
  },
  {
   "cell_type": "markdown",
   "metadata": {},
   "source": [
    "---\n",
    "### Select a Conda Environment to Create\n",
    "\n",
    "OpenScienceLab provides locked and unlocked environment.yaml files\n",
    "- Locked YAMLs\n",
    "    - Package versions are all explicitly pinned\n",
    "    - Produces stable, identical environments when built by different users at different times\n",
    "    - Environments build quickly\n",
    "- Unlocked YAMLs\n",
    "    - Minimal pinning, only when necessary\n",
    "    - Attempts to install most recent versions of unpinned packages\n",
    "    - potentially divergent environments created when multiple users install at different times \n",
    "    - unstable, may break with dependency updates\n",
    "    - Environments may take a long time to resolve and build slowly (sometimes very slowly, >1hour)"
   ]
  },
  {
   "cell_type": "code",
   "execution_count": null,
   "metadata": {},
   "outputs": [],
   "source": [
    "yaml_location =  ipywidgets.RadioButtons(\n",
    "    options=[\n",
    "        \"Use Locked OSL-supplied environment.yaml (recommended)\",\n",
    "        \"Use Unlocked OSL-supplied environment.yaml (unstable)\",\n",
    "        \"Use another yaml\"\n",
    "    ],\n",
    "    description=\"\",\n",
    "    disabled=False,\n",
    "    layout=ipywidgets.Layout(width='1000px')\n",
    ")\n",
    "display(yaml_location)"
   ]
  },
  {
   "cell_type": "code",
   "execution_count": null,
   "metadata": {},
   "outputs": [],
   "source": [
    "locked = 'Locked' in yaml_location.value\n",
    "other = 'another' in yaml_location.value\n",
    "\n",
    "if not other:\n",
    "    if locked:\n",
    "        env_ymls = list(Path.cwd().rglob(\"Locked_Environment_Configs/*.y*ml\"))\n",
    "    else:\n",
    "        env_ymls = list(Path.cwd().rglob(\"Environment_Configs/*.y*ml\"))\n",
    "    fileinput.close()\n",
    "    yml_dict = {fileinput.filename():f.split('name: ')[1].strip('\\n') for f in fileinput.input(env_ymls) if fileinput.isfirstline()}\n",
    "    names = [v for v in yml_dict.values()]\n",
    "    if len(names) > len(set(names)):\n",
    "        dups = {}\n",
    "\n",
    "        for k, v in yml_dict.items():\n",
    "            dups.setdefault(v, []).append(k)\n",
    "        dups = {k:v for (k,v) in dups.items() if len(dups[k]) > 1}\n",
    "        display(Markdown(f'<text style=color:red><strong>WARNING:</text>'))\n",
    "        display(Markdown(f'<text style=color:red>Duplicate environment names found in /home/jovyan/conda_environments/Environment_Configs/*.yml files.</text>'))\n",
    "        display(Markdown(f'<text style=color:red>Creating an env with the same name as an existing env will overwrite the original.</text>'))\n",
    "        display(Markdown(f'<text style=color:green><br><strong>RECOMMENDATION:</strong></text>'))\n",
    "        display(Markdown(f'<text style=color:green>Edit the environment names on the first lines of the YMLs to eliminate duplicates.</text>'))\n",
    "        display(Markdown(f'<text style=color:green>If you see multiple similarly named YMLs, some of whose filenames have a timestamp appended to them, this is a result of YML updates.</text>'))\n",
    "        display(Markdown(f'<text style=color:green>In this case, the YML without a timestamp is the latest version and, unless you have made customizations to the old versions, you may safely delete them.</text>'))\n",
    "\n",
    "        for d in dups:\n",
    "            print(f'YMLs using the environment name \"{d}\":')\n",
    "            for pth in dups[d]:\n",
    "                print(pth)\n",
    "        options = [f\"{yml_dict[k]} ---> {k}\" for k in yml_dict]\n",
    "    else:\n",
    "        options = [yml_dict[k] for k in yml_dict]\n",
    "    options.sort()\n",
    "    display(Markdown(f'<text style=color:green><br><strong>Select an Environment to Create:</strong></text>'))\n",
    "    height = len(env_ymls) * 20\n",
    "    names =  ipywidgets.RadioButtons(\n",
    "        options=options,\n",
    "        description=\"\",\n",
    "        disabled=False,\n",
    "        layout=ipywidgets.Layout(height=f\"{height}px\", width='1000px')\n",
    "    )\n",
    "    display(names)\n",
    "else:\n",
    "    print(\"Select your environment's yml or yaml\")\n",
    "    fc = FileChooser(Path.cwd())\n",
    "    display(fc)\n"
   ]
  },
  {
   "cell_type": "markdown",
   "metadata": {},
   "source": [
    "---\n",
    "### Collect the Environment Name, Prefix, and Path to its env.yml"
   ]
  },
  {
   "cell_type": "code",
   "execution_count": null,
   "metadata": {},
   "outputs": [],
   "source": [
    "if not other:\n",
    "    name = names.value\n",
    "    if '--->' in name:\n",
    "        name, yml = name.split(' ---> ')\n",
    "    else:\n",
    "        yml = {v:k for k,v in yml_dict.items()}[name]\n",
    "else:\n",
    "    yml = fc.selected\n",
    "    fileinput.close()\n",
    "    first_line = fileinput.input(yml).readline()\n",
    "    name_regex = '(?<=name: ).*(?=\\\\n)'\n",
    "    try:\n",
    "        name = re.search(name_regex, first_line).group(0).strip()\n",
    "    except AttributeError:\n",
    "        raise Exception(\"Environment name not found in first line of yaml\")\n",
    "prefix = f\"/home/jovyan/.local/envs/{name}\"\n",
    "print(f\"Environment location will be: {prefix}\")"
   ]
  },
  {
   "cell_type": "markdown",
   "metadata": {},
   "source": [
    "---\n",
    "### Remove unused packages and caches."
   ]
  },
  {
   "cell_type": "code",
   "execution_count": null,
   "metadata": {
    "pycharm": {
     "name": "#%%\n"
    },
    "tags": []
   },
   "outputs": [],
   "source": [
    "%%capture\n",
    "!sudo /opt/conda/condabin/mamba clean -p -t --yes\n",
    "!pip cache purge"
   ]
  },
  {
   "cell_type": "markdown",
   "metadata": {},
   "source": [
    "---\n",
    "### Create the Environment, change its display name, and run any needed shell scripts\n",
    "- This will overwrite an existing environment with the same name instead of updating it, which is the safer option for environments that change PATH and/or PYTHONPATH\n",
    "- custom shell scripts \n",
    "    - save in `~/conda_environments/Scripts`\n",
    "    - append an `elif` statement to the `if`/`elif` statements below to run it"
   ]
  },
  {
   "cell_type": "code",
   "execution_count": null,
   "metadata": {},
   "outputs": [],
   "source": [
    "%%time\n",
    "# Creates the environment\n",
    "!mamba env create -f $yml --prefix $prefix -q --force\n",
    "\n",
    "# Runs any associated shell scripts\n",
    "if name == \"insar_analysis\":\n",
    "    !source \"Scripts/install_insar_analysis_pkgs.sh\"\n",
    "elif name == \"osl_mintpy\":\n",
    "    !source \"Scripts/osl_mintpy.sh\"\n",
    "elif name == \"train\":\n",
    "    !source \"Scripts/train.sh\"\n",
    "elif name == \"earthscope_insar\":\n",
    "    !source \"Scripts/earthscope_insar.sh\"\n",
    "elif name == \"NISAR_SE\":\n",
    "    !source \"Scripts/nisar_se.sh\"\n",
    "elif name == \"isce3_rtc\":\n",
    "    !source \"Scripts/isce3_rtc.sh\"\n",
    "elif name == \"rtc_calval\":\n",
    "    !source \"Scripts/rtc_calval.sh\""
   ]
  },
  {
   "cell_type": "markdown",
   "metadata": {
    "pycharm": {
     "name": "#%% md\n"
    }
   },
   "source": [
    "*Create_OSL_Conda_Environments.ipynb - Version 1.2.4 - February 2024*\n",
    "\n",
    "*Version Changes:*\n",
    "- *move cache clearing before env creation*\n",
    "- *Don't change environment display names with kernda*"
   ]
  }
 ],
 "metadata": {
  "kernelspec": {
   "display_name": "base",
   "language": "python",
   "name": "python3"
  },
  "language_info": {
   "codemirror_mode": {
    "name": "ipython",
    "version": 3
   },
   "file_extension": ".py",
   "mimetype": "text/x-python",
   "name": "python",
   "nbconvert_exporter": "python",
   "pygments_lexer": "ipython3",
   "version": "3.11.6"
  }
 },
 "nbformat": 4,
 "nbformat_minor": 4
}
