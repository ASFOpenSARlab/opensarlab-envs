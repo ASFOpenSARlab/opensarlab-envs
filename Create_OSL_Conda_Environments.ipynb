{
 "cells": [
  {
   "cell_type": "markdown",
   "metadata": {},
   "source": [
    "# Install Conda Environments in OpenSARlab using an environment.yml\n",
    "\n",
    "**If you wish to create a conda environment with the conda create commnand, use this [notebook](../opensarlab_docs/OpenSARlab_supplements/Jupyter_Conda_Environments.ipynb) instead.**"
   ]
  },
  {
   "cell_type": "code",
   "execution_count": null,
   "metadata": {},
   "outputs": [],
   "source": [
    "import glob\n",
    "import ipywidgets\n",
    "import os\n",
    "import fileinput\n",
    "\n",
    "from IPython.display import Markdown, display"
   ]
  },
  {
   "cell_type": "markdown",
   "metadata": {},
   "source": [
    "### List Currently Installed Conda Environments"
   ]
  },
  {
   "cell_type": "code",
   "execution_count": null,
   "metadata": {},
   "outputs": [],
   "source": [
    "%conda env list"
   ]
  },
  {
   "cell_type": "markdown",
   "metadata": {},
   "source": [
    "### Select a Conda Environment to Create\n",
    "\n",
    "Note: \n",
    "to be seen by this notebook, new environment.yml files should be stored in /home/jovyan/Environment_Configs/"
   ]
  },
  {
   "cell_type": "code",
   "execution_count": null,
   "metadata": {},
   "outputs": [],
   "source": [
    "env_ymls = glob.glob(\"/home/jovyan/conda_environments/Environment_Configs/*.yml\")\n",
    "\n",
    "yml_dict = {fileinput.filename():f.split('name: ')[1].strip('\\n') for f in fileinput.input(env_ymls) if fileinput.isfirstline()}\n",
    "names = [v for v in yml_dict.values()]\n",
    "if len(names) > len(set(names)):\n",
    "    dups = {}\n",
    "    \n",
    "    for k, v in yml_dict.items():\n",
    "        dups.setdefault(v, []).append(k)\n",
    "    dups = {k:v for (k,v) in dups.items() if len(dups[k]) > 1}\n",
    "    display(Markdown(f'<text style=color:red><strong>WARNING:</text>'))\n",
    "    display(Markdown(f'<text style=color:red>Duplicate environment names found in /home/jovyan/conda_environments/Environment_Configs/*.yml files.</text>'))\n",
    "    display(Markdown(f'<text style=color:red>Creating an env with the same name as an existing env will overwrite the original.</text>'))\n",
    "    display(Markdown(f'<text style=color:green><br><strong>RECOMMENDATION:</strong></text>'))\n",
    "    display(Markdown(f'<text style=color:green>Edit the environment names on the first lines of the YMLs to eliminate duplicates.</text>'))   \n",
    "    \n",
    "    for d in dups:\n",
    "        print(f'YMLs using the environment name \"{d}\":')\n",
    "        for pth in dups[d]:\n",
    "            print(pth)\n",
    "    options = [f\"{yml_dict[k]} ---> {k}\" for k in yml_dict]\n",
    "else:\n",
    "    options = [yml_dict[k] for k in yml_dict]\n",
    "\n",
    "display(Markdown(f'<text style=color:green><br><strong>Select an Environment to Create:</strong></text>'))\n",
    "height = len(env_ymls) * 19\n",
    "names =  ipywidgets.RadioButtons(\n",
    "    options=options,\n",
    "    description=\"\",\n",
    "    disabled=False,\n",
    "    layout=ipywidgets.Layout(height=f\"{height}px\", width='1000px')\n",
    ")\n",
    "names\n"
   ]
  },
  {
   "cell_type": "markdown",
   "metadata": {},
   "source": [
    "### Collect the Environment Name, Prefix, and Path to its env.yml"
   ]
  },
  {
   "cell_type": "code",
   "execution_count": null,
   "metadata": {},
   "outputs": [],
   "source": [
    "name = names.value\n",
    "if '--->' in name:\n",
    "    name, yml = name.split(' ---> ')\n",
    "else:\n",
    "    yml = {v:k for k,v in yml_dict.items()}[name]\n",
    "prefix = f\"/home/jovyan/.local/envs/{name}\""
   ]
  },
  {
   "cell_type": "markdown",
   "metadata": {},
   "source": [
    "### Create the Environment\n",
    "This will overwrite an existing enviornment with the same name instead of updating it, which is the safer option for environments that change PATH and/or PYTHONPATH"
   ]
  },
  {
   "cell_type": "code",
   "execution_count": null,
   "metadata": {},
   "outputs": [],
   "source": [
    "%conda env create -f $yml --prefix $prefix --force"
   ]
  },
  {
   "cell_type": "markdown",
   "metadata": {},
   "source": [
    "### Update iykernel with the environment name and location of its kernel"
   ]
  },
  {
   "cell_type": "code",
   "execution_count": null,
   "metadata": {},
   "outputs": [],
   "source": [
    "%conda run -n $name kernda --display-name $name -o $prefix/share/jupyter/kernels/python3/kernel.json"
   ]
  },
  {
   "cell_type": "markdown",
   "metadata": {},
   "source": [
    "### Complete installations and repository clones for newly created insar_analysis and train environments\n",
    "If you create a new env that requires an installation script for building packages from source or changing env variables, run them here. "
   ]
  },
  {
   "cell_type": "code",
   "execution_count": null,
   "metadata": {},
   "outputs": [],
   "source": [
    "if name == \"insar_analysis\":\n",
    "    !source install_insar_analysis_pkgs.sh\n",
    "elif name == \"train\":\n",
    "    !source train.sh"
   ]
  },
  {
   "cell_type": "markdown",
   "source": [
    "### Remove unused packages and caches."
   ],
   "metadata": {
    "collapsed": false
   }
  },
  {
   "cell_type": "code",
   "execution_count": null,
   "outputs": [],
   "source": [
    "%conda clean -p -t --yes"
   ],
   "metadata": {
    "collapsed": false,
    "pycharm": {
     "name": "#%%\n"
    }
   }
  },
  {
   "cell_type": "markdown",
   "metadata": {},
   "source": [
    "<font face=\"Calibri\" size=\"2\"> <i>Create_OSL_Conda_Environments.ipynb - Version 1.1.0 - July 2021\n",
    "    <br>\n",
    "        <b>Version Changes:</b>\n",
    "    <ul>\n",
    "        <li>Support environment.yml files following any naming convention</li>\n",
    "        <li>Recognize and provide warnings for duplicate env names</li>\n",
    "    </ul>\n",
    "    </i>\n",
    "</font>"
   ]
  }
 ],
 "metadata": {
  "kernelspec": {
   "display_name": "Python 3",
   "language": "python",
   "name": "python3"
  },
  "language_info": {
   "codemirror_mode": {
    "name": "ipython",
    "version": 3
   },
   "file_extension": ".py",
   "mimetype": "text/x-python",
   "name": "python",
   "nbconvert_exporter": "python",
   "pygments_lexer": "ipython3",
   "version": "3.7.8"
  }
 },
 "nbformat": 4,
 "nbformat_minor": 4
}